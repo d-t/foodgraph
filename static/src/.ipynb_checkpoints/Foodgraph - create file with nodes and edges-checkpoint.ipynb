{
 "cells": [
  {
   "cell_type": "code",
   "execution_count": 64,
   "metadata": {
    "collapsed": true
   },
   "outputs": [],
   "source": [
    "# Imports\n",
    "\n",
    "from collections import Counter\n",
    "import json"
   ]
  },
  {
   "cell_type": "code",
   "execution_count": 56,
   "metadata": {
    "collapsed": true
   },
   "outputs": [],
   "source": [
    "# Constants\n",
    "\n",
    "INPUT_FILEPATH = '../dataset/kaggle_recipes.json'\n",
    "OUTPUT_FILEPATH = '../output/graph_1.json'"
   ]
  },
  {
   "cell_type": "code",
   "execution_count": 5,
   "metadata": {
    "collapsed": true
   },
   "outputs": [],
   "source": [
    "# Load input file\n",
    "filepath = INPUT_FILEPATH\n",
    "with open(filepath, 'rb') as f:\n",
    "    json_recipes = json.load(f)"
   ]
  },
  {
   "cell_type": "code",
   "execution_count": 13,
   "metadata": {
    "collapsed": false
   },
   "outputs": [],
   "source": [
    "# Get list of recipes\n",
    "recipes = {jr['id']: {'cuisine': jr['cuisine'], 'ingredients': jr['ingredients']} \\\n",
    "           for jr in json_recipes}"
   ]
  },
  {
   "cell_type": "code",
   "execution_count": 30,
   "metadata": {
    "collapsed": false
   },
   "outputs": [],
   "source": [
    "# Process ingredients\n",
    "\n",
    "ingredients = {}\n",
    "counter = 0\n",
    "for r_id in recipes.keys():  # for each recipe id...\n",
    "    curr_recipe = recipes[r_id]\n",
    "    curr_ingredients = curr_recipe['ingredients']\n",
    "    for ing in curr_ingredients:  # for each ingredient associated to the recipe...\n",
    "        if ing not in ingredients:\n",
    "            ingredients[ing] = {'recipes': [], 'cuisines': Counter(), 'id': str(counter)}\n",
    "            counter += 1\n",
    "        ingredients[ing]['recipes'].append(r_id)\n",
    "        ingredients[ing]['cuisines'][recipes[r_id]['cuisine']] += 1"
   ]
  },
  {
   "cell_type": "code",
   "execution_count": 35,
   "metadata": {
    "collapsed": false
   },
   "outputs": [
    {
     "name": "stdout",
     "output_type": "stream",
     "text": [
      "0 / 6714\n",
      "1000 / 6714\n",
      "2000 / 6714\n",
      "3000 / 6714\n",
      "4000 / 6714\n",
      "5000 / 6714\n",
      "6000 / 6714\n"
     ]
    }
   ],
   "source": [
    "# Find connections between ingredients, i.e. ingredients sharing at least one recipe\n",
    "\n",
    "ing2ingredients = {}\n",
    "for i, ing_label in enumerate(ingredients.keys()):  # for each ingredient label...\n",
    "    if i % 1000 == 0:\n",
    "        print i, '/', len(ingredients.keys())\n",
    "    ing = ingredients[ing_label]\n",
    "    ing_id = ing['id']\n",
    "    ing2ingredients[ing_id] = Counter()\n",
    "    curr_recipes = ingredients[ing_label]['recipes']\n",
    "    for r_id in curr_recipes:  # for each recipe id associated to the current ingredient...\n",
    "        recipe = recipes[r_id]\n",
    "        for curr_ingredient in recipe['ingredients']:  # for each ingredient included in the current recipe...\n",
    "            if curr_ingredient != ing:  # ...if the ingredient is different from the first one...\n",
    "                ing_id_1 = ingredients[curr_ingredient]['id']\n",
    "                ing2ingredients[ing_id][ing_id_1] += 1  # ...increase the counter of the connection"
   ]
  },
  {
   "cell_type": "code",
   "execution_count": 74,
   "metadata": {
    "collapsed": false
   },
   "outputs": [],
   "source": [
    "# Create graph dict (output)\n",
    "# Each item is an ingredient, identified by a numeric id (in string format); represents a graph node.\n",
    "# Each item includes: edges, label, number of recipes containing the ingredient, main cuisine.\n",
    "\n",
    "graph = {}\n",
    "for ing_label in ingredients.keys():  # for each ingredient label...\n",
    "    ing_id = ingredients[ing_label]['id']\n",
    "    graph[ing_id] = {}\n",
    "    graph[ing_id]['edges'] = ing2ingredients[ing_id].keys()\n",
    "    graph[ing_id]['label'] = ing_label\n",
    "    graph[ing_id]['n_recipes'] = len(ingredients[ing_label])\n",
    "    curr_cuisines = ingredients[ing_label]['cuisines']\n",
    "    main_cuisine_idx = curr_cuisines.values().index(max([curr_cuisines[r] \\\n",
    "                                                    for r in curr_cuisines]))\n",
    "    graph[ing_id]['main_cuisine'] = curr_cuisines.keys()[main_cuisine_idx]"
   ]
  },
  {
   "cell_type": "code",
   "execution_count": 75,
   "metadata": {
    "collapsed": true
   },
   "outputs": [],
   "source": [
    "# Write graph dict to json file\n",
    "output_filepath = OUTPUT_FILEPATH\n",
    "with open(output_filepath, 'wb+') as f:\n",
    "    json.dump(graph, f, indent=2, sort_keys=True)"
   ]
  },
  {
   "cell_type": "code",
   "execution_count": 76,
   "metadata": {
    "collapsed": false
   },
   "outputs": [
    {
     "name": "stdout",
     "output_type": "stream",
     "text": [
      "Number of ingredients associated to each cuisine type\n",
      "italian: 1257\n",
      "mexican: 1115\n",
      "southern_us: 810\n",
      "chinese: 500\n",
      "french: 495\n",
      "indian: 477\n",
      "japanese: 279\n",
      "cajun_creole: 278\n",
      "thai: 247\n",
      "british: 169\n",
      "greek: 169\n",
      "korean: 128\n",
      "irish: 126\n",
      "filipino: 110\n",
      "vietnamese: 108\n",
      "russian: 108\n",
      "spanish: 90\n",
      "moroccan: 86\n",
      "jamaican: 84\n",
      "brazilian: 78\n"
     ]
    }
   ],
   "source": [
    "# Analyze main cuisine values - just for fun\n",
    "\n",
    "# Count number of ingredients associated to each cuisine type\n",
    "main_cuisines = Counter()\n",
    "for ing_id in graph.keys():\n",
    "    main_cuisines[graph[ing_id]['main_cuisine']] += 1\n",
    "\n",
    "# Sort by counter value\n",
    "print \"Number of ingredients associated to each cuisine type\"\n",
    "main_cuisines = [(cuisine, main_cuisines[cuisine]) for cuisine in main_cuisines.keys()]\n",
    "main_cuisines = sorted(main_cuisines, key=lambda x:x[1], reverse=True)\n",
    "\n",
    "# Print values\n",
    "for mc in main_cuisines:\n",
    "    print mc[0] + ':', mc[1]"
   ]
  },
  {
   "cell_type": "code",
   "execution_count": null,
   "metadata": {
    "collapsed": true
   },
   "outputs": [],
   "source": []
  }
 ],
 "metadata": {
  "kernelspec": {
   "display_name": "Python [conda env:foodgraph]",
   "language": "python",
   "name": "conda-env-foodgraph-py"
  },
  "language_info": {
   "codemirror_mode": {
    "name": "ipython",
    "version": 2
   },
   "file_extension": ".py",
   "mimetype": "text/x-python",
   "name": "python",
   "nbconvert_exporter": "python",
   "pygments_lexer": "ipython2",
   "version": "2.7.12"
  }
 },
 "nbformat": 4,
 "nbformat_minor": 2
}
